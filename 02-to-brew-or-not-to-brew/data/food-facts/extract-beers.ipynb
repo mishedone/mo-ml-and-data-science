{
 "cells": [
  {
   "cell_type": "code",
   "execution_count": 1,
   "metadata": {},
   "outputs": [],
   "source": [
    "import pandas as pd"
   ]
  },
  {
   "cell_type": "code",
   "execution_count": 2,
   "metadata": {},
   "outputs": [
    {
     "name": "stdout",
     "output_type": "stream",
     "text": [
      "Step 1 - done\n",
      "Step 2 - done\n",
      "Step 3 - done\n",
      "Step 4 - done\n",
      "Step 5 - done\n",
      "Step 6 - done\n",
      "Step 7 - done\n",
      "Step 8 - done\n",
      "Step 9 - done\n",
      "Step 10 - done\n",
      "Step 11 - done\n",
      "Step 12 - done\n",
      "Step 13 - done\n",
      "Step 14 - done\n",
      "Step 15 - done\n",
      "Step 16 - done\n",
      "Step 17 - done\n",
      "Step 18 - done\n",
      "Step 19 - done\n",
      "Step 20 - done\n",
      "Step 21 - done\n",
      "Step 22 - done\n",
      "Step 23 - done\n",
      "Step 24 - done\n",
      "Step 25 - done\n",
      "Step 26 - done\n",
      "Step 27 - done\n",
      "Step 28 - done\n",
      "Step 29 - done\n",
      "Step 30 - done\n",
      "Step 31 - done\n",
      "Step 32 - done\n",
      "Step 33 - done\n",
      "Step 34 - done\n",
      "Step 35 - done\n",
      "Step 36 - done\n"
     ]
    }
   ],
   "source": [
    "beers = pd.DataFrame()\n",
    "\n",
    "# Process food facts in chunks since the file is quite big.\n",
    "step = 1\n",
    "for food_facts in pd.read_table('foods.tsv', chunksize=10000, low_memory=False):\n",
    "    food_facts = food_facts.dropna(subset=['categories_tags'])\n",
    "    food_fact_beers = food_facts[food_facts['categories_tags'].str.contains('beer', case=False)]\n",
    "    beers = beers.append(food_fact_beers)\n",
    "    print('Step %d - done' % step)\n",
    "    step = step + 1\n",
    "\n",
    "# Store the result for later processing.\n",
    "beers.to_csv('beers.csv', index=False)"
   ]
  }
 ],
 "metadata": {
  "kernelspec": {
   "display_name": "Python 3",
   "language": "python",
   "name": "python3"
  },
  "language_info": {
   "codemirror_mode": {
    "name": "ipython",
    "version": 3
   },
   "file_extension": ".py",
   "mimetype": "text/x-python",
   "name": "python",
   "nbconvert_exporter": "python",
   "pygments_lexer": "ipython3",
   "version": "3.6.4"
  }
 },
 "nbformat": 4,
 "nbformat_minor": 2
}
