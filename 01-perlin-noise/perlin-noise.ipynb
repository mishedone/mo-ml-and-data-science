{
 "cells": [
  {
   "cell_type": "code",
   "execution_count": 1,
   "metadata": {},
   "outputs": [],
   "source": [
    "%matplotlib inline"
   ]
  },
  {
   "cell_type": "code",
   "execution_count": 2,
   "metadata": {},
   "outputs": [],
   "source": [
    "import numpy as np\n",
    "import PIL.Image as image\n",
    "\n",
    "# Project includes.\n",
    "import hashes"
   ]
  },
  {
   "cell_type": "markdown",
   "metadata": {},
   "source": [
    "# Perlin noise\n",
    "## Origin. Application. Implementation. Demonstration.\n",
    "## Author: Mihail Milev"
   ]
  },
  {
   "cell_type": "markdown",
   "metadata": {},
   "source": [
    "### Abstract\n",
    "\n",
    "Perlin noise is a widely adopted algorithm in a lot of areas of computer science. It generates coherent sequences of random numbers that when used in graphics look fluent, natural and pleasing to humans.\n",
    "\n",
    "The aim of this work is to find out what math concepts the algorithm is based on and how they work together. The gathered knowledge is then used to actually implement it in the Python programming language.\n",
    "\n",
    "Our investigations end with a few example applications of the algorithm including generating an image with moving clouds and proposing ideas for future work. "
   ]
  },
  {
   "cell_type": "markdown",
   "metadata": {},
   "source": [
    "### What is noise\n",
    "\n",
    "Any sequence of random values is considered noise. While learning a programming language developers are introduced to random number generators at some point. Either for creating test data for an algorithm or graphics for presentations - they are useful without any doubt. Random numbers have one big flaw though - when visualized they look very unnatural to people because values \"jump\" with big gaps. The problem is that each number has been generated in a silo - with no relation to the surrounding numbers.\n",
    "\n",
    "![](img/random-noise.gif)\n",
    "\n",
    "### What is Perlin noise\n",
    "\n",
    "Perlin noise is an extremely powerful algorithm that is addressing the noise problem by generating a fluent sequence of random numbers. Ken Perlin developed it while working on the original Tron movie in the early 1980s. He used it to create procedural textures for computer-generated effects. In 1997, Perlin won an Academy Award in technical achievement for this work. [2]\n",
    "\n",
    "![](img/perlin-noise.gif)\n",
    "\n",
    "### Where is it being used\n",
    "\n",
    "Perlin noise can be used for any sort of wave-like material or texture. For example, it could be used for procedural terrain, fire effects, water and clouds. These effects mostly represent Perlin noise in the 2nd and 3rd dimensions, but it can be extended into the 4th dimension rather trivially. Additionally Perlin noise can be used in only 1 dimension for purposes such as side-scrolling terrain or to create the illusion of handwritten lines.\n",
    "\n",
    "Also, if you extend Perlin noise into an additional dimension and consider the extra dimension as time, you can animate it. For example, 2D Perlin noise can be interpreted as terrain, but 3D noise can similarly be interpreted as undulating waves in an ocean scene. [1]\n",
    "\n",
    "![](img/perlin-water.jpg)\n",
    "![](img/perlin-fire.jpg)\n",
    "\n",
    "### What concepts is it based on\n",
    "\n",
    "The Perlin noise algorithm can be implemented as a simple noise function receiving n float number parameters for each dimension of interest (yes - any dimension can be implemented but the algorithm slows down a lot for many dimensions). The result of the function is a number between [-1,1] but it can be translated to a number between [0,1] for convenience (e.g. 0 to 1 can be interpreted as 0% to 100% and easily mapped to anything - a color, a choice of tiles on a map, etc.).\n",
    "\n",
    "The main concepts the algorithm is based on are the following:\n",
    "\n",
    "* **A coordinate system** - we split each dimension in sections where each section starts from an integer and ends on the next integer. If we take 2D space for example - this is a grid with lines on integer values - 0, 1, 2, etc. When the noise function is called the algorithm finds the section the arguments are located in and strips their whole parts to find their coordinates inside the section.\n",
    "\n",
    "\n",
    "* **[Dot product](https://en.wikipedia.org/wiki/Dot_product) of a pseudorandom gradient vector and a distance vector** - for each section boundary point we choose a random vector - the gradient vector. An important rule is that we use the same gradient vector for each boundary point on consecutive noise calculations (we will use a hash function to guarantee that but more on this later). This way the algorithm can return the same result between multiple calls. In 2D space this may look something like this:\n",
    "\n",
    "    ![](img/gradient-vectors.png)\n",
    "\n",
    "    Afterwards we define the distance vectors - those are the vectors starting from the section boundary points and ending at the point we received as arguments in the function. Again in 2D space:\n",
    "\n",
    "    ![](img/distance-vectors.png)\n",
    "    \n",
    "    When we have all of those vectors we can use their [dot products](https://en.wikipedia.org/wiki/Dot_product) to calculate the influence - the number that will allow us to transition smoothly between points. As we know calculating the dot product between two vectors means summing the multiplcations of each dimension:\n",
    "    \n",
    "    $$ (a, b) · (c, d) = ac + bd $$\n",
    "    \n",
    "    \n",
    "* **Linear interpolation** - once we have calculated the dot products for all vectors in a section (4 in 2D space, 8 in 3D space) we apply linear interpolation to calculate a weighted average for the final result. The formula to apply is:\n",
    "\n",
    "    $$ a + x (b - a) $$\n",
    "    \n",
    "    Where $ a $ and $ b $ are the dot product influence for 2 boundary points in a single dimension and $ x $ is the fraction of the noise function argument value in the same dimension.\n",
    "\n",
    "    We interpolate each dimension separately until we get to the point we received as arguments.\n",
    "\n",
    "\n",
    "* **Fading function** - we apply this function to the arguments we receive to make transitions smoother. In essence the fading makes values close to 0 and 1 change slowly and values near 0.5 change fast.\n",
    "\n",
    "    ![](img/fade-curve.gif)\n",
    "\n",
    "    An interesting fact is that the initial Perlin noise algorithm used the following fading function:\n",
    "    \n",
    "    $$ 3t^2 - 2t^3 $$\n",
    "    \n",
    "    The problem with this fading function is described in detail in [3]. In short - it breaks the smoothness in certain cases. That's why Ken Perlin created an improved version of his algorithm to fix it. The improved fading function is:\n",
    "    \n",
    "    $$ 6t^5 - 15t^4 + 10t^3 $$"
   ]
  },
  {
   "cell_type": "markdown",
   "metadata": {},
   "source": [
    "### Implementation - let's get our hands dirty\n",
    "\n",
    "We will start with defining various independent pieces of the algorithm that we will use in the noise function itself.\n",
    "\n",
    "Here are 3 fading functions we will play with in the examples - no fade, the initial fade and the improved fade."
   ]
  },
  {
   "cell_type": "code",
   "execution_count": 15,
   "metadata": {},
   "outputs": [],
   "source": [
    "def no_fade(t):\n",
    "    \"\"\"\n",
    "    No fade means just return t (the number) as it is.\n",
    "    \"\"\"\n",
    "    return t\n",
    "\n",
    "def initial_fade(t):\n",
    "    \"\"\"\n",
    "    The initial fade.\n",
    "    \"\"\"\n",
    "    return 3 * t ** 2 - 2 * t ** 3\n",
    "\n",
    "def improved_fade(t):\n",
    "    \"\"\"\n",
    "    The improved fade.\n",
    "    \"\"\"\n",
    "    return 6 * t ** 5 - 15 * t ** 4 + 10 * t ** 3"
   ]
  },
  {
   "cell_type": "markdown",
   "metadata": {},
   "source": [
    "We will need also linear interpolation - let's define it as a separate function since it's just a simple formula."
   ]
  },
  {
   "cell_type": "code",
   "execution_count": 4,
   "metadata": {},
   "outputs": [],
   "source": [
    "def lerp(x, a, b):\n",
    "    \"\"\"\n",
    "    Calculates the linear interpolation of x between a and b.\n",
    "    \"\"\"\n",
    "    return a + x * (b - a)"
   ]
  },
  {
   "cell_type": "markdown",
   "metadata": {},
   "source": [
    "Now things will get a bit more complex... As we've mentioned before we will use a hashing function to choose a gradient vector for each section boundary point. A hash function, as defined by wikipedia, is:\n",
    "\n",
    "    …any function that can be used to map data of arbitrary size to data of fixed size, with slight differences in input\n",
    "    data producing very big differences in output data. [1]\n",
    "    \n",
    "The key here is - if we have a set of coordinates for a boundary point, let's say x and y, the hash function for them will ALWAYS return the same value. It will not matter if we call the noise function with the same parameters once or 100 times - the result will be the same.\n",
    "\n",
    "For convenience and speed we will not use a hashing algorithm but a simple list of predefined values from 0 - 255 instead (located in the external hashes.py file). What this also means is that each section will be actually split in 256 small pieces. To prevent overflows while picking from our list we will just double it."
   ]
  },
  {
   "cell_type": "code",
   "execution_count": 5,
   "metadata": {},
   "outputs": [],
   "source": [
    "p = hashes.default + hashes.default\n",
    "\n",
    "def get_hash(x, y, z):\n",
    "    \"\"\"\n",
    "    Picks a random hash value for a set of coordinates.\n",
    "    \"\"\"\n",
    "    return p[p[p[x] + y] + z]"
   ]
  },
  {
   "cell_type": "markdown",
   "metadata": {},
   "source": [
    "We will also need a function that will calculate the dot product of a pseudorandom gradient vector (a hash we've chosen) and a distance vector. Here is my interpretation so it is easier to read. You can still check [5] for the function in the improved Perlin noise algorithm and [6] for the faster implementation. The name grad() is kept from the original algorithm for consistency."
   ]
  },
  {
   "cell_type": "code",
   "execution_count": 6,
   "metadata": {},
   "outputs": [],
   "source": [
    "def grad(rand, x, y, z):\n",
    "    \"\"\"\n",
    "    Calculates the influence of a gradient vector and a distance vector.\n",
    "    \"\"\"\n",
    "    group = rand & 15\n",
    "    group_results = (\n",
    "        x + y,\n",
    "        -x + y,\n",
    "        x - y,\n",
    "        -x - y,\n",
    "        x + z,\n",
    "        -x + z,\n",
    "        x - z,\n",
    "        -x - z,\n",
    "        y + z,\n",
    "        -y + z,\n",
    "        y - z,\n",
    "        -y - z,\n",
    "        y + x,\n",
    "        -y + z,\n",
    "        y - x,\n",
    "        -y - z\n",
    "    )\n",
    "    return group_results[group]"
   ]
  },
  {
   "cell_type": "markdown",
   "metadata": {},
   "source": [
    "And... we're almost there. The only thing left is to actually combine those pieces with some logic and we'll have a Perlin noise implementation. Read the comments for explanations on each line."
   ]
  },
  {
   "cell_type": "code",
   "execution_count": 7,
   "metadata": {
    "scrolled": true
   },
   "outputs": [],
   "source": [
    "def noise(x, y, z, fader=improved_fade):\n",
    "    \"\"\"\n",
    "    Perlin noise implementation. Supports 3 dimensions.\n",
    "    Pass a custom fader to play with the smoothness of the result.\n",
    "    \"\"\"\n",
    "    # Find the bottom left point of the section our point is in.\n",
    "    # We will use a section size of 256 since our hash function produces results of this size.\n",
    "    # & 255 is the same as % 256 - just faster.\n",
    "    # g comes from grid.\n",
    "    xg = int(x) & 255\n",
    "    yg = int(y) & 255\n",
    "    zg = int(z) & 255\n",
    "    \n",
    "    # Calculate the coordinates of our point of interest inside the section.\n",
    "    # The results will be numbers between (0,1).\n",
    "    x = x - int(x)\n",
    "    y = y - int(y)\n",
    "    z = z - int(z)\n",
    "    \n",
    "    # Calculate the fade curves for all dimensions in the section.\n",
    "    # This will introduce smoothness.\n",
    "    u = fader(x)\n",
    "    v = fader(y)\n",
    "    w = fader(z)\n",
    "    \n",
    "    # Pick a gradient vector for each of the section boundary points - 8 in 3D space.\n",
    "    aaa = get_hash(xg, yg, zg)\n",
    "    aba = get_hash(xg, yg + 1, zg)\n",
    "    aab = get_hash(xg, yg, zg + 1)\n",
    "    abb = get_hash(xg, yg + 1, zg + 1)\n",
    "    baa = get_hash(xg + 1, yg, zg)\n",
    "    bba = get_hash(xg + 1, yg + 1, zg)\n",
    "    bab = get_hash(xg + 1, yg, zg + 1)\n",
    "    bbb = get_hash(xg + 1, yg + 1, zg + 1)\n",
    "    \n",
    "    # Calculate the weighted averages of the influences (dot products) via linear interpolation.\n",
    "    # Do it for the \"front-bottom horizontal line\" first.\n",
    "    x1 = lerp(\n",
    "        u,\n",
    "        grad(aaa, x, y, z),\n",
    "        grad(baa, x - 1, y, z)\n",
    "    )\n",
    "    \n",
    "    # Then for the \"front-top horizontal line\".\n",
    "    x2 = lerp(\n",
    "        u,\n",
    "        grad(aba, x, y - 1, z),\n",
    "        grad(bba, x - 1, y - 1, z)\n",
    "    )\n",
    "    \n",
    "    # Then for the \"front vertical line\".\n",
    "    y1 = lerp(v, x1, x2)\n",
    "\n",
    "    # Then for the \"back-bottom horizontal line\".\n",
    "    x1 = lerp(\n",
    "        u,\n",
    "        grad(aab, x, y, z - 1),\n",
    "        grad(bab, x - 1, y, z - 1)\n",
    "    )\n",
    "    \n",
    "    # Then for the \"back-top horizontal line\".\n",
    "    x2 = lerp(\n",
    "        u,\n",
    "        grad(abb, x, y - 1, z - 1),\n",
    "        grad(bbb, x - 1, y - 1, z - 1)\n",
    "    )\n",
    "    \n",
    "    # Then for the \"back vertical line\".\n",
    "    y2 = lerp(v, x1, x2);\n",
    "    \n",
    "    # Then for the argument point itself.\n",
    "    original_result = lerp(w, y1, y2)\n",
    "    \n",
    "    # Now we do another average to return results from 0 to 1 instead of -1 to 1.\n",
    "    return (original_result + 1) / 2;"
   ]
  },
  {
   "cell_type": "markdown",
   "metadata": {},
   "source": [
    "### Examples - let's play\n",
    "\n",
    "But before showing some stuff - let's define some tools we'll need."
   ]
  },
  {
   "cell_type": "markdown",
   "metadata": {},
   "source": [
    "Here is a function that will create a 2D matrix of color noise values (integers from 0 to 255) with certain size and fader."
   ]
  },
  {
   "cell_type": "code",
   "execution_count": 8,
   "metadata": {},
   "outputs": [],
   "source": [
    "def make_color_noises(width, height, fader=improved_fade):\n",
    "    \"\"\"\n",
    "    Generates a 2D matrix of random colors.\n",
    "    \"\"\"\n",
    "    noises = np.zeros((height, width), dtype=int)\n",
    "    for column in range(width):\n",
    "        for row in range(height):\n",
    "            noises[row][column] = int(noise(column / 10, row / 10, 0.2, fader=fader) * 255)\n",
    "    return noises"
   ]
  },
  {
   "cell_type": "markdown",
   "metadata": {},
   "source": [
    "Here is a function that will create a PIL image from a 2D matrix of color noise values and will apply a custom coloring function so we can modify the output for each pixel."
   ]
  },
  {
   "cell_type": "code",
   "execution_count": 9,
   "metadata": {},
   "outputs": [],
   "source": [
    "def get_image(noises, tile=1, color=lambda x: (x, x, x)):\n",
    "    \"\"\"\n",
    "    Generates a PIL image instance from a 2D matrix of perlin noise values.\n",
    "    \n",
    "    The tile parameter sets the repetition of each noise value so you can zoom in.\n",
    "    For example if tile=3, instead of coloring a single pixel, a value will color a square with a size of 3x3.\n",
    "    \n",
    "    Use the color parameter to pass a function that returns a tuple of RGB colors to manipulate the output.\n",
    "    \"\"\"\n",
    "    h, w = noises.shape \n",
    "    end_w, end_h = w * tile, h * tile\n",
    "    img = image.new('RGB', (end_w, end_h))\n",
    "    for column in range(end_w):\n",
    "        for row in range(end_h):\n",
    "            value = int(noises[int(np.floor(row / tile)), int(np.floor(column / tile))])\n",
    "            img.putpixel((column, row), color(value))\n",
    "    return img"
   ]
  },
  {
   "cell_type": "markdown",
   "metadata": {},
   "source": [
    "**Example 1** - compare the 3 fade functions"
   ]
  },
  {
   "cell_type": "markdown",
   "metadata": {},
   "source": [
    "No fade"
   ]
  },
  {
   "cell_type": "code",
   "execution_count": 10,
   "metadata": {},
   "outputs": [
    {
     "data": {
      "image/png": "[encoded data removed]",
      "text/plain": [
       "<PIL.Image.Image image mode=RGB size=200x100 at 0x7F16125C8240>"
      ]
     },
     "execution_count": 10,
     "metadata": {},
     "output_type": "execute_result"
    }
   ],
   "source": [
    "noises = make_color_noises(200, 100, fader=no_fade)\n",
    "get_image(noises)"
   ]
  },
  {
   "cell_type": "markdown",
   "metadata": {},
   "source": [
    "Initial fade"
   ]
  },
  {
   "cell_type": "code",
   "execution_count": 11,
   "metadata": {},
   "outputs": [
    {
     "data": {
      "image/png": "[encoded data removed]",
      "text/plain": [
       "<PIL.Image.Image image mode=RGB size=200x100 at 0x7F16125AFFD0>"
      ]
     },
     "execution_count": 11,
     "metadata": {},
     "output_type": "execute_result"
    }
   ],
   "source": [
    "noises = make_color_noises(200, 100, fader=initial_fade)\n",
    "get_image(noises)"
   ]
  },
  {
   "cell_type": "markdown",
   "metadata": {},
   "source": [
    "Improved fade"
   ]
  },
  {
   "cell_type": "code",
   "execution_count": 12,
   "metadata": {},
   "outputs": [
    {
     "data": {
      "image/png": "[encoded data removed]",
      "text/plain": [
       "<PIL.Image.Image image mode=RGB size=200x100 at 0x7F16125B8048>"
      ]
     },
     "execution_count": 12,
     "metadata": {},
     "output_type": "execute_result"
    }
   ],
   "source": [
    "noises = make_color_noises(200, 100, fader=improved_fade)\n",
    "get_image(noises)"
   ]
  },
  {
   "cell_type": "markdown",
   "metadata": {},
   "source": [
    "**Example 2** - create clouds"
   ]
  },
  {
   "cell_type": "markdown",
   "metadata": {},
   "source": [
    "That should be pretty easy with our color parameter on the get_image function (it's great when we build reusable tools!). We just have to always set Blue to 255 and voala."
   ]
  },
  {
   "cell_type": "code",
   "execution_count": 13,
   "metadata": {},
   "outputs": [
    {
     "data": {
      "image/png": "[encoded data removed]",
      "text/plain": [
       "<PIL.Image.Image image mode=RGB size=300x300 at 0x7F16125B8390>"
      ]
     },
     "execution_count": 13,
     "metadata": {},
     "output_type": "execute_result"
    }
   ],
   "source": [
    "noises = make_color_noises(100, 100)\n",
    "get_image(noises, tile=3, color=lambda x: (x, x, 255))"
   ]
  },
  {
   "cell_type": "markdown",
   "metadata": {},
   "source": [
    "**Example 3** - make the clouds move"
   ]
  },
  {
   "cell_type": "markdown",
   "metadata": {},
   "source": [
    "We will create a sequence of images and combine them into a gif file to have moving clouds - sounds simple right? But how are we going to make the clouds move? The complex answer could be use the 3rd dimension as time but I will leave that as future work. Let's do some numpy array juggling!"
   ]
  },
  {
   "cell_type": "code",
   "execution_count": 14,
   "metadata": {},
   "outputs": [],
   "source": [
    "# Generate a big set of noises - a small trick of ours.\n",
    "all_noises = make_color_noises(300, 300)\n",
    "\n",
    "# Now generate the cloud images - each next will use a small window of all cloud noises.\n",
    "clouds = []\n",
    "cloud_w, cloud_h = 30, 30\n",
    "for indent in range(256):\n",
    "    cloud_noises = all_noises[indent:indent + cloud_w, indent:indent + cloud_h]\n",
    "    clouds.append(get_image(cloud_noises, tile=3, color=lambda x: (x, x, 255)))\n",
    "\n",
    "# Save it to disk... Unfortunately Jupyter notebook is not that good at rendering and NOT caching gifs.\n",
    "clouds[0].save('clouds.gif', save_all=True, append_images=clouds[1:], duration=1, loop=0)"
   ]
  },
  {
   "cell_type": "markdown",
   "metadata": {},
   "source": [
    "![](clouds-30-30.gif)"
   ]
  },
  {
   "cell_type": "markdown",
   "metadata": {},
   "source": [
    "### Conclusion\n",
    "\n",
    "We got familiar with what are noise and Perlin noise - their commonalities and differences. We saw that Perlin noise actually has a lot of applications on many levels.\n",
    "\n",
    "Then we deep dived into the math concepts the algorithm is based on to understand how it works under the hood. Perlin noise is a great example how a few simple math concepts, when applied properly, can lead to awesome results.\n",
    "\n",
    "Afterwards we implemented the algorithm itself in small steps and actually saw why it is so widely used - the output of the algorithm creates fluent sequences of random numbers between 0 and 1 (or -1 and 1) which can be applied to ANY context. Imagination is literally the limit!\n",
    "\n",
    "In the end we had some time for fun too - we generated some boring greyscale images to compare different fading functions but then played around with some clouds.\n",
    "\n",
    "### Future work\n",
    "\n",
    "* Try applying the binary dot product calculations from [6] and measure the performance gains / losses.\n",
    "* Use the 3rd dimension to animate the clouds.\n",
    "* Find out what coloring modifications must be applied to generate water and fire.\n",
    "* Play around with a set of terrain tiles to generate a map."
   ]
  },
  {
   "cell_type": "markdown",
   "metadata": {},
   "source": [
    "### References\n",
    "\n",
    "[1] [Flafla2, 2014, Understanding Perlin Noise](http://flafla2.github.io/2014/08/09/perlinnoise.html)\n",
    "\n",
    "[2] [Khan Academy, Perlin noise](https://www.khanacademy.org/computing/computer-programming/programming-natural-simulations/programming-noise/a/perlin-noise)\n",
    "\n",
    "[3] [Lars Huttar, 2017, Learning how Perlin noise works](http://www.huttar.net/lars-kathy/graphics/perlin-noise/perlin-noise.html)\n",
    "\n",
    "[4] [Matt Zucker, 2001, Perlin noise math FAQ (initial implementation)](https://mzucker.github.io/html/perlin-noise-math-faq.html)\n",
    "\n",
    "[5] [Ken Perlin, 2002, Improved noise reference implementation](https://mrl.nyu.edu/~perlin/noise/)\n",
    "\n",
    "[6] [Riven, 2010, Calculate PerlinNoise faster with an optimization to grad()](http://riven8192.blogspot.bg/2010/08/calculate-perlinnoise-twice-as-fast.html)"
   ]
  }
 ],
 "metadata": {
  "kernelspec": {
   "display_name": "Python 3",
   "language": "python",
   "name": "python3"
  },
  "language_info": {
   "codemirror_mode": {
    "name": "ipython",
    "version": 3
   },
   "file_extension": ".py",
   "mimetype": "text/x-python",
   "name": "python",
   "nbconvert_exporter": "python",
   "pygments_lexer": "ipython3",
   "version": "3.6.4"
  }
 },
 "nbformat": 4,
 "nbformat_minor": 2
}
